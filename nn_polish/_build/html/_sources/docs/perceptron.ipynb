{
 "cells": [
  {
   "cell_type": "markdown",
   "metadata": {},
   "source": [
    "(perc-lab)=\n",
    "# Perceptron"
   ]
  },
  {
   "cell_type": "code",
   "execution_count": 1,
   "metadata": {
    "tags": [
     "remove-cell"
    ]
   },
   "outputs": [],
   "source": [
    "import numpy as np              # numeric\n",
    "import matplotlib.pyplot as plt # plotting\n",
    "import matplotlib as mpl        # plotting"
   ]
  },
  {
   "cell_type": "code",
   "execution_count": 2,
   "metadata": {
    "tags": [
     "remove-cell"
    ]
   },
   "outputs": [
    {
     "name": "stdout",
     "output_type": "stream",
     "text": [
      "Invoking __init__.py for neural\n"
     ]
    }
   ],
   "source": [
    "import os.path \n",
    "\n",
    "isdir = os.path.isdir('lib_nn') # check whether 'lib_nn' exists\n",
    "\n",
    "if not isdir:\n",
    "   !git clone https://github.com/bronwojtek/lib_nn.git # cloning the library from github\n",
    "\n",
    "import sys                     \n",
    "sys.path.append('./lib_nn') \n",
    "\n",
    "from neural import *            # importing my library package"
   ]
  },
  {
   "cell_type": "markdown",
   "metadata": {},
   "source": [
    "## Uczenie nadzorowane"
   ]
  },
  {
   "cell_type": "markdown",
   "metadata": {},
   "source": [
    "W poprzednich rozdziałach pokazaliśmy, że nawet najprostsze sieci ANN mogą wykonywać przydatne zadania (emulować sieci logiczne lub dostarczać proste modele pamięci). Ogólnie rzecz biorąc, każdy ANN ma\n",
    "\n",
    "- pewną **architekturę**, czyli liczbę warstw, liczbę neuronów w każdej warstwie, schemat połączeń między neuronami (w pełni połączone lub nie, feed-forward, rekurencyjne, ...);\n",
    "\n",
    "- **wagi (hiperparametry)** na połącznieach, z określonymi wartościami definiującymi funkcjonalność sieci.\n",
    "\n",
    "Podstawowym pytaniem praktycznym jest to, jak ustawić (dla danej architektury) wagi tak, aby żądany cel funkcjonalności sieci został zrealizowany, tj. dla określonych danych wejściowych uzuskać pożądany wynik na wyjściu.\n",
    "W zadaniach omówionych wcześniej wagi mogą być skonstruowane *a priori*, czy to dla bramek logicznych, czy dla modeli pamięci. Jednak dla bardziej skomplikowanych aplikacji chcemy mieć „łatwiejszy” sposób określania wag. Co więcej, dla skomplikowanych problemów „teoretyczne” określenie wag a priori nie jest w ogóle możliwe. To podstawowy powód, dla którego wymyślono **algorytmy uczenia się** sieci, które ,,automatycznie\" dostosowują wagi na podstawie dostępnych danych.\n",
    "\n",
    "W tym rozdziale rozpoczynamy badanie takich algorytmów, poczynając od podejścia **uczenia nadzorowanego**, stosowanego m.in. do klasyfikacji danych."
   ]
  },
  {
   "cell_type": "markdown",
   "metadata": {},
   "source": [
    "```{admonition} Uczenie nadzorowane\n",
    ":class: important\n",
    "\n",
    "W tej strategii dane muszą posiadać **etykiety**, które a priori określają poprawną kategorię dla każdego punktu. Pomyślmy na przykład o zdjęciach zwierząt (dane lub cechy, ang. features) i ich opisach (kot, pies,...), które nazywane są etykietami (ang. labels).\n",
    "Te etykietowane dane są następnie dzielone na próbkę **szkoleniową** i próbkę **testową**.\n",
    "\n",
    "Podstawowe kroki uczenia nadzorowanego dla danej ANN są następujące:\n",
    "\n",
    "- Zainicjuj w jakiś sposób wagi, na przykład losowo lub na zero.\n",
    "\n",
    "- Odczytuj kolejno punkty danych z próbki szkoleniowej i przepuszczaj je przez swoją sieć ANN. Otrzymana odpowiedź może różnić się od prawidłowej, zawartej w etykiecie. W takim przypadku wagi są zmieniane zgodnie z konkretną receptą (o czym później).\n",
    "\n",
    "- W razie potrzeby powtórz poprzedni krok. Zazwyczaj wagi zmienia się coraz mniej w miarę postępu algorytmu.\n",
    "\n",
    "- Zakończ szkolenie sieci po osiągnięciu kryterium zatrzymania (wagi nie zmieniają się już znacznie lub została osiągnięta maksymalna liczba iteracji).\n",
    "\n",
    "- Przetestuj tak wyszkoloną ANN na próbce testowej.\n",
    "\n",
    "Jeśli jesteśmy zadowoleni, mamy pożądaną wyszkoloną sieć ANN wykonującą określone zadanie (takie jak np. klasyfikacja danych), której można teraz używać na nowych, nieetykietowanych danych. Jeśli nie, możemy inaczej podzielić próbkę na część szkoleniową i testową, po czym powtórzyć procedurę uczenia od początku. Możemy także spróbować pozyskać więcej danych (co może być kosztowne), lub też zmienić architekturę sieci.\n",
    "\n",
    "Termin „nadzorowany” pochodzi z interpretacji procedury, w której etykiety posiadane są przez „nauczyciela”, który w ten sposób wie, które odpowiedzi są prawidłowe, a które błędne i który **nadzoruje** w ten sposób proces szkolenia. Oczywiście program komputerowy ma wbudowanego nauczyciela. tj. \"nadzoruje się\" sam.\n",
    "```"
   ]
  },
  {
   "cell_type": "markdown",
   "metadata": {},
   "source": [
    "## Perceptron jako klasyfikator binarny"
   ]
  },
  {
   "cell_type": "markdown",
   "metadata": {},
   "source": [
    "Najprostszy algorytm uczenia nadzorowanego\n",
    "to [perceptron](https://en.wikipedia.org/wiki/Perceptron), wymyślony w 1958 roku przez Franka Rosenblatta. Może służyć m.in. do\n",
    "konstruowania **klasyfikatorów binarnych** danych. *Binarny* oznacza, że sieć\n",
    "służy do oceny, czy element danych ma określoną cechę, czy nie - są tylko dwie możliwości. Klasyfikacja wieloetykietowa jest również możliwa w przypadku ANN (patrz ćwiczenia), ale nie omawiamy jej tutaj."
   ]
  },
  {
   "cell_type": "markdown",
   "metadata": {},
   "source": [
    "```{Admonition} Uwaga\n",
    ":class: note\n",
    "Termin *perceptron* jest również używany dla ANN (bez lub z warstwami pośrednimi) składających się z neuronów MCP (por. rys. {numref}`ffnn-fig` i {numref}`MCP1-fig`), na których wykonywany jest algorytm perceptronu.\n",
    "```"
   ]
  },
  {
   "cell_type": "markdown",
   "metadata": {},
   "source": [
    "### Próbka ze znaną regułą klasyfikacji"
   ]
  },
  {
   "cell_type": "markdown",
   "metadata": {},
   "source": [
    "Na początek potrzebujemy danych treningowych, które wygenerujemy jako losowe punkty w kwadracie. Zatem współrzędne punktu, $x_1$ i $x_2$, należą do przedziału $[0,1]$. Definiujemy dwie kategorie: jedną dla punktów leżących powyżej linii $x_1=x_2$ (nazwijmy je różowymi) oraz drugą dla punktów leżących poniżej tej linii (niebieskie). Podczas losowego generowania danych sprawdzamy, czy $x_2 > x_1$ czy nie i przypisujemy odpowiednią  **etykietę** do każdego punktu, równą odpowiednio 1 lub 0. Te etykiety są oczekiwanymi „prawdziwymi” odpowiedziami sieci po jej wyszkoleniu."
   ]
  },
  {
   "cell_type": "markdown",
   "metadata": {},
   "source": [
    "Funkcja generująca opisany powyżej punkt danych z etykietą to"
   ]
  },
  {
   "cell_type": "code",
   "execution_count": 3,
   "metadata": {},
   "outputs": [],
   "source": [
    "def point():     # generates random coordinates x1, x2, and 1 if x2>x1, 0 otherwise\n",
    "    x1=np.random.random()          # random number from the range [0,1]\n",
    "    x2=np.random.random()\n",
    "    if(x2>x1):                     # condition met\n",
    "        return np.array([x1,x2,1]) # add label 1\n",
    "    else:                          # not met\n",
    "        return np.array([x1,x2,0]) # add label 0"
   ]
  },
  {
   "cell_type": "markdown",
   "metadata": {},
   "source": [
    "Generujemy **próbkę szkoleniową**, składającą się z **npo**=300 etykietowanych punktów danych:"
   ]
  },
  {
   "cell_type": "code",
   "execution_count": 4,
   "metadata": {
    "scrolled": false
   },
   "outputs": [
    {
     "name": "stdout",
     "output_type": "stream",
     "text": [
      "  x1         x2         label\n",
      "[[0.32934056 0.39891895 1.        ]\n",
      " [0.87245402 0.23216823 0.        ]\n",
      " [0.34298363 0.15572279 0.        ]\n",
      " [0.85658971 0.99224611 1.        ]\n",
      " [0.78826375 0.03085404 0.        ]]\n"
     ]
    }
   ],
   "source": [
    "npo=300 # number of data points in the training sample\n",
    "\n",
    "print('  x1         x2         label')       # header\n",
    "samp=np.array([point() for _ in range(npo)]) # training sample, _ is dummy iterator\n",
    "print(samp[:5, :])                           # first 5 data points"
   ]
  },
  {
   "cell_type": "markdown",
   "metadata": {},
   "source": [
    "```{admonition} Pętle w tablicy\n",
    ":class: warning\n",
    "\n",
    "W Pythonie można wygodnie zdefiniować tablicę poprzez pętlę, np.\n",
    "[i**2 for i in range(4)] daje [1,4,9].\n",
    "\n",
    "\n",
    "W pętlach, jeśli wskaźnik nie występuje jawnie w wyrażeniu, można użyć symbolu **_** , np. \n",
    "\n",
    "[point() for _ in range(npo)]\n",
    "```"
   ]
  },
  {
   "cell_type": "markdown",
   "metadata": {},
   "source": [
    "```{admonition} Zakresy w tablicach\n",
    ":class: warning\n",
    "\n",
    "Aby nie drukować niepotrzebnie bardzo długiej tabeli, po raz pierwszy użyliśmy powyżej **zakresów dla wskaźników tablic**. Np. 2:5 oznacza od 2 do 4 (przypomnijmy, że ostatni jest wykluczony!), :5 - od 0 do 4, 5: - od 5 do końca, wreszcie : - wszystkie elementy.\n",
    "```\n",
    "\n",
    "Nasze wygenerowane dane przedstawia graficznie poniższy rysunek. Wykreślamy również linię $x_2=x_1$, która oddziela niebieskie i różowe punkty. W tym przypadku podział jest możliwy a priori (znamy regułę) w sposób dokładny."
   ]
  },
  {
   "cell_type": "code",
   "execution_count": 5,
   "metadata": {
    "scrolled": true
   },
   "outputs": [
    {
     "data": {
      "image/png": "[encoded data removed]",
      "text/plain": [
       "<Figure size 276x276 with 1 Axes>"
      ]
     },
     "metadata": {},
     "output_type": "display_data"
    }
   ],
   "source": [
    "plt.figure(figsize=(2.3,2.3),dpi=120)                 \n",
    "plt.xlim(-.1,1.1)                                  # axes limits\n",
    "plt.ylim(-.1,1.1)\n",
    "plt.scatter(samp[:,0],samp[:,1],c=samp[:,2],       # label determines the color\n",
    "            s=5,cmap=mpl.cm.cool)                  # point size and color\n",
    "\n",
    "plt.plot([-0.1, 1.1], [-0.1, 1.1])                 # separating line\n",
    "\n",
    "plt.xlabel('$x_1$',fontsize=11)                    \n",
    "plt.ylabel('$x_2$',fontsize=11)\n",
    "\n",
    "plt.show()"
   ]
  },
  {
   "cell_type": "markdown",
   "metadata": {},
   "source": [
    "```{admonition} Zbiory liniowo rozłączne\n",
    ":class: important\n",
    "\n",
    "Dwa zbiory punktów (tutaj niebieski i różowy) na płaszczyźnie, które można rozdzielić linią prostą, nazywamy **liniowo rozłącznymi** (separowalnymi). W trzech wymiarach zbiory muszą być separowalne płaszczyzną, ogólnie w $n$ wymiarach  zbiory muszą być separowalne za pomocą  $n-1$ wymiarowej hiperpłaszczyzny.\n",
    "```\n",
    "\n",
    "Analitycznie, jeżeli punkty w przestrzeni $n$ wymiarowej  mają współrzędne $(x_1,x_2,\\dots,x_n)$, to można dobrać parametry $(w_0,w_1,\\dots,w_n)$ w taki sposób, aby zbiór jeden punktów spełniał warunek\n",
    "\n",
    "```{math}\n",
    ":label: eq-linsep\n",
    "\n",
    "w_0+x_1 w_1+x_2 w_2 + \\dots x_n w_n > 0\n",
    "```\n",
    "\n",
    "a drugi warunek przeciwny, ze znakiem $>$ zastąpionym przez $\\le$."
   ]
  },
  {
   "cell_type": "markdown",
   "metadata": {},
   "source": [
    "A teraz kluczowa, choć oczywista obserwacja: powyższa nierówność jest dokładnie warunkiem zaimplementowanym w [neuronie MCP](laboratorium MCP) (ze schodkową funkcją aktywacji) w konwencji {numref}`MCP2-fig`! Możemy więc zrealizować warunek {eq}`eq-linsep` za pomocą funkcji **neuron** z biblioteki **neural**.\n",
    "\n",
    "W naszym przykładzie dla różowych punktów, według konstrukcji,\n",
    "\n",
    "$$\n",
    "x_2>x_1 \\to s=-x_1+x_2 >0\n",
    "$$\n",
    "\n",
    "skąd, używając równ. {eq}`eq-linsep`, możemy od razu odczytać\n",
    "\n",
    "$$\n",
    "w_0=0, \\;\\; w_1=-1, w_2=1.\n",
    "$$\n",
    "\n",
    "Zatem funkcja **neuron** dla punktu próbki p jest używana w następujący sposób:"
   ]
  },
  {
   "cell_type": "code",
   "execution_count": 6,
   "metadata": {},
   "outputs": [
    {
     "data": {
      "text/plain": [
       "1"
      ]
     },
     "execution_count": 6,
     "metadata": {},
     "output_type": "execute_result"
    }
   ],
   "source": [
    "p=[0.6,0.8]      # sample point with x_2 > x_1\n",
    "w=[0,-1,1]       # weights as given above\n",
    "\n",
    "func.neuron(p,w) "
   ]
  },
  {
   "cell_type": "markdown",
   "metadata": {},
   "source": [
    "Neuron, odpalił, więc punkt p jest różowy."
   ]
  },
  {
   "cell_type": "markdown",
   "metadata": {},
   "source": [
    "```{admonition} Wniosek\n",
    ":class: important\n",
    "\n",
    "Pojedynczy neuron MCP z odpowiednio dobranymi wagami może być użyty jako klasyfikator binarny dla $n$-wymiarowych danych separowalnych.\n",
    "```"
   ]
  },
  {
   "cell_type": "markdown",
   "metadata": {},
   "source": [
    "### Próbka o nieznanej regule klasyfikacji"
   ]
  },
  {
   "cell_type": "markdown",
   "metadata": {},
   "source": [
    "W tym miejscu czytelnik może być nieco zwiedziony pozorną błahością wyników. Wątpliwości mogą wynikać z tego, że w powyższym przykładzie od początku znaliśmy regułę określającą dwie klasy punktów ($x_2>x_1$, lub odwrotnie). Jednak w ogólnej sytuacji „z prawdziwego życia” zwykle tak nie jest! Wyobraź sobie, że napotykamy (etykietowane) dane **samp2** wyglądające tak:"
   ]
  },
  {
   "cell_type": "code",
   "execution_count": 7,
   "metadata": {
    "tags": [
     "remove-cell"
    ]
   },
   "outputs": [],
   "source": [
    "def point2():\n",
    "    x1=np.random.random()          # random number from the range [0,1]\n",
    "    x2=np.random.random()\n",
    "    if(x2>x1*0.52+0.25):           # condition met\n",
    "        return np.array([x1,x2,1]) # add label 1\n",
    "    else:                          # not met\n",
    "        return np.array([x1,x2,0]) # add label 0"
   ]
  },
  {
   "cell_type": "code",
   "execution_count": 8,
   "metadata": {
    "scrolled": true,
    "tags": [
     "remove-cell"
    ]
   },
   "outputs": [],
   "source": [
    "samp2=np.array([point2() for _ in range(npo)])              "
   ]
  },
  {
   "cell_type": "code",
   "execution_count": 9,
   "metadata": {},
   "outputs": [
    {
     "name": "stdout",
     "output_type": "stream",
     "text": [
      "[[0.50896192 0.26237741 0.        ]\n",
      " [0.50775256 0.1093865  0.        ]\n",
      " [0.44707124 0.04838339 0.        ]\n",
      " [0.26519082 0.33358304 0.        ]\n",
      " [0.5661581  0.53616119 0.        ]]\n"
     ]
    }
   ],
   "source": [
    "print(samp2[:5])"
   ]
  },
  {
   "cell_type": "code",
   "execution_count": 10,
   "metadata": {
    "scrolled": false,
    "tags": [
     "remove-input"
    ]
   },
   "outputs": [
    {
     "data": {
      "image/png": "[encoded data removed]",
      "text/plain": [
       "<Figure size 276x276 with 1 Axes>"
      ]
     },
     "metadata": {},
     "output_type": "display_data"
    }
   ],
   "source": [
    "plt.figure(figsize=(2.3,2.3),dpi=120)                 \n",
    "plt.xlim(-.1,1.1)                                  \n",
    "plt.ylim(-.1,1.1)\n",
    "plt.scatter(samp2[:,0],samp2[:,1],c=samp2[:,2],     \n",
    "            s=5,cmap=mpl.cm.cool)                  \n",
    "\n",
    "plt.xlabel('$x_1$',fontsize=12)                    \n",
    "plt.ylabel('$x_2$',fontsize=12)\n",
    "\n",
    "plt.show()"
   ]
  },
  {
   "cell_type": "markdown",
   "metadata": {},
   "source": [
    "Sytuacja jest teraz w pewnym sensie odwrócona. Uzyskaliśmy skądś (liniowo separowalne) dane i chcemy znaleźć regułę, która definiuje te dwie klasy. Innymi słowy, musimy narysować linię podziału, która jest równoważna ze znalezieniem wag neuronu MCP {numref}`MCP2-fig`, który przeprowadziłby odpowiednią klasyfikację binarną."
   ]
  },
  {
   "cell_type": "markdown",
   "metadata": {},
   "source": [
    "(lab-pa)=\n",
    "## Algorytm perceptronu"
   ]
  },
  {
   "cell_type": "markdown",
   "metadata": {},
   "source": [
    "Moglibyśmy spróbować jakoś obliczyć właściwe wagi dla powyższego przykładu i znaleźć linię podziału, na przykład linijką i ołówkiem, ale nie o to tutaj chodzi. Chcemy mieć systematyczną procedurę algorytmiczną, która bez trudu zadziała w tej czy każdej podobnej sytuacji. Odpowiedzią jest wspomniany już [algorytm perceptronu](https://en.wikipedia.org/wiki/Perceptron).\n",
    "\n",
    "Przed przedstawieniem algorytmu zauważmy, że neuron MCP z pewnym zbiorem wag $w_0, w_1, w_2$ zawsze daje jakąś odpowiedź dla etylirtowanego punktu danych, poprawną lub błędną. Na przykład"
   ]
  },
  {
   "cell_type": "code",
   "execution_count": 11,
   "metadata": {},
   "outputs": [
    {
     "name": "stdout",
     "output_type": "stream",
     "text": [
      "label  answer\n",
      "0      1\n",
      "0      1\n",
      "0      0\n",
      "0      0\n",
      "0      1\n"
     ]
    }
   ],
   "source": [
    "w=[-0.5,1,0]           # arbitrary choice of weights\n",
    "\n",
    "print(\"label  answer\") # header\n",
    "\n",
    "for i in range(5): # look at first 5 points\n",
    "    print(int(samp2[i,2]),\"    \",func.neuron(samp2[i,:2],w)) \n",
    "            # samp2[i,2] is the label, samp2[i,:2] is [x_1,x_2]"
   ]
  },
  {
   "cell_type": "markdown",
   "metadata": {},
   "source": [
    "Widzimy, że niektóre odpowiedzi są równe etykietom (poprawne), a inne są od nich różne (błędne). Ogólną ideą jest teraz **użycie błędnych odpowiedzi**, aby sprytnie, małymi krokami zmieniać wagi, tak aby po wystarczającej liczbie iteracji wszystkie odpowiedzi dla danej próbki szkoleniowej były poprawne!"
   ]
  },
  {
   "cell_type": "markdown",
   "metadata": {},
   "source": [
    "```{admonition} Algorytm perceptronu\n",
    ":class: important\n",
    "\n",
    "Iterujemy po punktach próbki danych szkoleniowych.\n",
    "Jeżeli dla danego punktu otrzymany wynik $y_o$ jest równy prawdziwej wartości $y_t$ (etykieta), tj. odpowiedź jest prawidłowa, nic nie robimy. Jeśli jednak jest błędna, zmieniamy nieco wagi, tak aby szansa na otrzymanie błędnej odpowiedzi spadła. Przepis jest następujący:\n",
    "\n",
    "$w_i \\to w_i  +  \\varepsilon  (y_t - y_o)  x_i$,\n",
    "\n",
    "gdzie $ \\varepsilon $ to mała liczba (nazywana **szybkością uczenia**), a $x_i$ to współrzędne punktu wejściowego, gdzie $i=0,\\dots,n$. \n",
    "```\n",
    "\n",
    "Prześledźmy, jak to działa. Załóżmy najpierw, że $x_i> 0$. Wtedy jeśli etykieta $ y_t = 1 $ jest większa niż uzyskana odpowiedź $ y_o = 0 $, waga $w_i$ jest zwiększana. Wtedy $w \\cdot x$ również wzrasta, a $ y_o = f (w \\cdot x) $ z większą szansą przyjmie poprawną wartość 1 (pamiętamy, jak wygląda funkcja schodkowa $f$). Jeżeli natomiast etykieta $y_t = 0 $ jest mniejsza niż uzyskana odpowiedź $ y_o = 1 $, to waga $w_i$ maleje, $ w \\cdot x $ maleje, a $ y_o = f(w \\cdot x) $ ma większą szansę na osiągnięcie prawidłowej wartości 0.\n",
    "\n",
    "Jeśli $ x_i < 0 $, łatwo analogicznie sprawdzić, że przepis również działa poprawnie.\n",
    "\n",
    "Jeśli odpowiedź jest prawidłowa, $y_t=y_0$, to $ w_i \\to w_i$, więc nic się nie zmienia. Nie „psujemy” perceptronu!\n",
    "\n",
    "Powyższy wzór można zastosować wielokrotnie dla tego samego punktu z próbki szkoleniowej. Następnie wykonujemy pętlę po wszystkich punktach próbki, a całą procedurę można jeszcze powtarzać w wielu rundach, aby uzyskać stabilne wagi (nie zmieniające się już w miarę kontynuacji procedury lub zmieniające się tylko nieznacznie).\n",
    "\n",
    "Zazwyczaj w takich algorytmach szybkość uczenia $ \\varepsilon $ jest zmniejszana w kolejnych rundach. Jest to bardzo ważne z praktycznego punktu widzenia, ponieważ zbyt duże aktualizacje mogą zepsuć uzyskane rozwiązanie."
   ]
  },
  {
   "cell_type": "markdown",
   "metadata": {},
   "source": [
    "Implementacja algorytmu perceptronu dla danych dwuwymiarowych w Pythonie wygląda następująco:"
   ]
  },
  {
   "cell_type": "code",
   "execution_count": 12,
   "metadata": {
    "scrolled": true
   },
   "outputs": [
    {
     "name": "stdout",
     "output_type": "stream",
     "text": [
      "Obtained weights:\n",
      "  w0     w1     w2\n",
      "[-0.562 -1.114  2.192]\n"
     ]
    }
   ],
   "source": [
    "w0=np.random.random()-0.5  # initialize weights randomly in the range [-0.5,0.5]\n",
    "w1=np.random.random()-0.5\n",
    "w2=np.random.random()-0.5\n",
    "\n",
    "eps=.3                     # initial  learning speed \n",
    "   \n",
    "for _ in range(20):        # loop over rounds\n",
    "    eps=0.9*eps            # in each round decrease the learning speed \n",
    "        \n",
    "    for i in range(npo):   # loop over the points from the data sample\n",
    "        \n",
    "        for _ in range(5): # repeat 5 times for each points\n",
    "            \n",
    "            yo = func.neuron(samp2[i,:2],[w0,w1,w2]) # obtained answer\n",
    "            \n",
    "            w0=w0+eps*(samp2[i,2]-yo)   # weight update (the perceptron formula)\n",
    "            w1=w1+eps*(samp2[i,2]-yo)*samp2[i,0]\n",
    "            w2=w2+eps*(samp2[i,2]-yo)*samp2[i,1]\n",
    "\n",
    "print(\"Obtained weights:\")\n",
    "print(\"  w0     w1     w2\")        # header \n",
    "w_o=np.array([w0,w1,w2])           # obtained weights\n",
    "print(np.round(w_o,3))             # result, rounded to 3 decimal places \n"
   ]
  },
  {
   "cell_type": "code",
   "execution_count": 13,
   "metadata": {
    "tags": [
     "remove-cell"
    ]
   },
   "outputs": [],
   "source": [
    "# for the separating line\n",
    "def l2(w0,w1,w2):\n",
    "    return [-.1,1.1],[-(w0-w1*0.1)/w2,-(w0+w1*1.1)/w2]\n",
    "\n",
    "# corresponding separating line\n",
    "lin=l2(w0,w1,w2)"
   ]
  },
  {
   "cell_type": "markdown",
   "metadata": {},
   "source": [
    "Otrzymane wagi, jak wiemy, definiują linię podziału. Tak więc, geometrycznie, algorytm tworzy linię podziału, narysowaną poniżej wraz z próbką szkoleniową."
   ]
  },
  {
   "cell_type": "code",
   "execution_count": 14,
   "metadata": {
    "tags": [
     "remove-input"
    ]
   },
   "outputs": [
    {
     "data": {
      "image/png": "[encoded data removed]",
      "text/plain": [
       "<Figure size 276x276 with 1 Axes>"
      ]
     },
     "metadata": {},
     "output_type": "display_data"
    }
   ],
   "source": [
    "plt.figure(figsize=(2.3,2.3),dpi=120)\n",
    "plt.xlim(-.1,1.1)\n",
    "plt.ylim(-.1,1.1)\n",
    "plt.scatter(samp2[:,0],samp2[:,1],c=samp2[:,2],s=5,cmap=mpl.cm.cool)\n",
    "\n",
    "plt.plot(lin[0],lin[1]) # plot the obtained separating line\n",
    "\n",
    "plt.xlabel('$x_1$',fontsize=12)\n",
    "plt.ylabel('$x_2$',fontsize=12) \n",
    "\n",
    "plt.show()"
   ]
  },
  {
   "cell_type": "markdown",
   "metadata": {},
   "source": [
    "Widzimy, że algorytm działa! Wszystkie różowe punkty znajdują się powyżej linii podziału, a wszystkie niebieskie poniżej. Podkreślmy, że linia podziału dana przez równanie\n",
    "\n",
    "$$ w_0+x_1 w_1 + x_2 w_2=0,$$\n",
    "\n",
    "nie wynika z naszej wiedzy a priori, ale z treningu (uczenia nadzowowanego) neuronu MCP, który odpowiednio dopasowuje swoje wagi.\n",
    "\n",
    "\n",
    "``` {uwaga}\n",
    "Można udowodnić, że algorytm perceptronu jest zbieżny wtedy i tylko wtedy, gdy dane są liniowo separowalne.\n",
    "```"
   ]
  },
  {
   "cell_type": "markdown",
   "metadata": {},
   "source": [
    "Teraz możemy wyjawić nasz sekret! Dane próbki szkoleniowej **samp2** zostały etykietowane w momencie tworzenia regułą\n",
    "\n",
    "$$ x_2> 0,25+0,52 x_1, $$\n",
    "\n",
    "co odpowiada wagom $w_0=0.25$, $w_1=-0.52$, $w_2=1$."
   ]
  },
  {
   "cell_type": "code",
   "execution_count": 15,
   "metadata": {},
   "outputs": [
    {
     "name": "stdout",
     "output_type": "stream",
     "text": [
      "[-0.25 -0.52  1.  ]\n"
     ]
    }
   ],
   "source": [
    "w_c=np.array([-0.25,-0.52,1]) # weights used for labeling the training sample\n",
    "print(w_c)"
   ]
  },
  {
   "cell_type": "markdown",
   "metadata": {},
   "source": [
    "Zwróćmy uwagę, że nie są to wcale te same wagi, jakie uzyskano podczas treningu:"
   ]
  },
  {
   "cell_type": "code",
   "execution_count": 16,
   "metadata": {
    "scrolled": true
   },
   "outputs": [
    {
     "name": "stdout",
     "output_type": "stream",
     "text": [
      "[-0.562 -1.114  2.192]\n"
     ]
    }
   ],
   "source": [
    "print(np.round(w_o,3))"
   ]
  },
  {
   "cell_type": "markdown",
   "metadata": {},
   "source": [
    "Powód jest dwojaki. Po pierwsze, zauważmy, że warunek nierówności {eq}`eq-linsep` pozostaje niezmieniony, jeśli pomnożymy obie stronynierówności  przez **dodatnią** stałą $c$. Możemy zatem przeskalować wszystkie wagi przez $c$, a sytuacja (odpowiedzi neuronu MCP, linia podziału) pozostaje dokładnie taka sama (napotykamy tutaj **klasę równoważności** wag przeskalowanych o czynnik dodatni) .\n",
    "\n",
    "Z tego powodu dzieląc uzyskane wagi przez wagi użyte do oznaczenia próbki, otrzymujemy (prawie) stałe wartości:"
   ]
  },
  {
   "cell_type": "code",
   "execution_count": 17,
   "metadata": {},
   "outputs": [
    {
     "name": "stdout",
     "output_type": "stream",
     "text": [
      "[2.249 2.143 2.192]\n"
     ]
    }
   ],
   "source": [
    "print(np.round(w_o/w_c,3))"
   ]
  },
  {
   "cell_type": "markdown",
   "metadata": {},
   "source": [
    "Powodem, dla którego wartości stosunków wag dla $i=0,1,2$ nie są dokładnie takie same, jest to, że próbka ma skończoną liczbę punktów (tutaj 300). W ten sposób zawsze istnieje pewna luka między dwiema klasami punktów i jest trochę miejsca na nieznaczne przesuwanie linii rozdzielającej. Przy większej liczbie punktów danych efekt różnicy stosunków wag zmniejsza się (patrz ćwiczenia)."
   ]
  },
  {
   "cell_type": "markdown",
   "metadata": {},
   "source": [
    "### Testowanie klasyfikatora"
   ]
  },
  {
   "cell_type": "markdown",
   "metadata": {},
   "source": [
    "Ze względu na ograniczoną wielkość próbki szkoleniowej i opisany powyżej efekt „luki”, wynik klasyfikacji na próbce testowej jest czasami błędny. Dotyczy to zawsze punktów w pobliżu linii podziału, która jest wyznaczana z dokładnością zależną od krotności próbki szkoleniowej. Poniższy kod przeprowadza sprawdzenie na próbce testowej. Próbka ta składa się z etykietowanych danych wygenerowanych losowo za pomocą tej samej funkcji **point2** użytej uprzednio do wygenerowania danych szkoleniowych:"
   ]
  },
  {
   "cell_type": "code",
   "execution_count": 18,
   "metadata": {},
   "outputs": [],
   "source": [
    "def point2():\n",
    "    x1=np.random.random()          # random number from the range [0,1]\n",
    "    x2=np.random.random()\n",
    "    if(x2>x1*0.52+0.25):           # condition met\n",
    "        return np.array([x1,x2,1]) # add label 1\n",
    "    else:                          # not met\n",
    "        return np.array([x1,x2,0]) # add label 0"
   ]
  },
  {
   "cell_type": "markdown",
   "metadata": {},
   "source": [
    "Kod testujący jest następujący:"
   ]
  },
  {
   "cell_type": "code",
   "execution_count": 19,
   "metadata": {
    "scrolled": true
   },
   "outputs": [
    {
     "name": "stdout",
     "output_type": "stream",
     "text": [
      "number of misclassified points =  20  per  10000  ( 0.2 % )\n"
     ]
    }
   ],
   "source": [
    "er= np.empty((0,3))  # initialize an empty 1 x 3 array to store misclassified points\n",
    "\n",
    "ner=0                 # initial number of misclassified points\n",
    "nt=10000               # number of test points\n",
    "\n",
    "for _ in range(nt):   # loop over the test points\n",
    "    ps=point2()       # a test point \n",
    "    if(func.neuron(ps[:2],[w0,w1,w2])!=ps[2]): # if wrong answer                                      \n",
    "        er=np.append(er,[ps],axis=0)           # add the point to er\n",
    "        ner+=1                                 # count the number of errors\n",
    "        \n",
    "print(\"number of misclassified points = \",ner,\" per \",nt,\" (\", np.round(ner/nt*100,1),\"% )\")        "
   ]
  },
  {
   "cell_type": "markdown",
   "metadata": {},
   "source": [
    "Jak widać, niewielka liczba punktów testowych jest błędnie sklasyfikowana. Wszystkie te punkty leżą w pobliżu linii rozdzielającej."
   ]
  },
  {
   "cell_type": "code",
   "execution_count": 20,
   "metadata": {
    "scrolled": true,
    "tags": [
     "remove-input"
    ]
   },
   "outputs": [
    {
     "data": {
      "image/png": "[encoded data removed]",
      "text/plain": [
       "<Figure size 276x276 with 1 Axes>"
      ]
     },
     "metadata": {},
     "output_type": "display_data"
    }
   ],
   "source": [
    "plt.figure(figsize=(2.3,2.3),dpi=120)\n",
    "plt.xlim(-.1,1.1)\n",
    "plt.ylim(-.1,1.1)\n",
    "plt.scatter(er[:,0],er[:,1],c=er[:,2],s=8,cmap=mpl.cm.cool)\n",
    "\n",
    "plt.plot(lin[0],lin[1],linewidth=1) # plot the obtained separating line\n",
    "\n",
    "plt.xlabel('$x_1$',fontsize=12)\n",
    "plt.ylabel('$x_2$',fontsize=12)\n",
    "\n",
    "plt.show()"
   ]
  },
  {
   "cell_type": "markdown",
   "metadata": {},
   "source": [
    "```{admonition} Błędna klasyfikacja\n",
    ":class: note\n",
    "\n",
    "Przyczyną błędnej klasyfikacji jest fakt, że próbka szkoleniowa nie wyznacza dokładnie linii rozdzielającej, ponieważ między punktami występuje pewna luka. Aby uzyskać lepszy wynik, punkty treningowe musiałyby być „gęstsze” w sąsiedztwie linii rozdzielającej lub też próbka treningowa musiałaby być większa.\n",
    "```"
   ]
  },
  {
   "cell_type": "markdown",
   "metadata": {},
   "source": [
    "## Ćwiczenia"
   ]
  },
  {
   "cell_type": "markdown",
   "metadata": {},
   "source": [
    "```{admonition} $~$\n",
    ":class: warning\n",
    "\n",
    "- Pobaw się kodem z wykładu i zobacz, jak procent błędnie zaklasyfikowanych punktów zmniejsza się wraz ze wzrostem wielkości próbki szkoleniowej.\n",
    "- Gdy algorytm perceptronu jest zbieżny, w pewnym momencie wagi przestają się zmieniać. Popraw kod wykładu, wdrażając zatrzymywanie, gdy wagi nie zmieniają się więcej niż pewna wartość podczas przechodzenia do następnej rundy.\n",
    "- Uogólnij powyższy klasyfikator na punkty w przestrzeni trójwymiarowej.\n",
    "```"
   ]
  }
 ],
 "metadata": {
  "kernelspec": {
   "display_name": "Python 3",
   "language": "python",
   "name": "python3"
  },
  "language_info": {
   "codemirror_mode": {
    "name": "ipython",
    "version": 3
   },
   "file_extension": ".py",
   "mimetype": "text/x-python",
   "name": "python",
   "nbconvert_exporter": "python",
   "pygments_lexer": "ipython3",
   "version": "3.8.11"
  }
 },
 "nbformat": 4,
 "nbformat_minor": 2
}
