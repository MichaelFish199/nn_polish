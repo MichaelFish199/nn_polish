{
 "cells": [
  {
   "cell_type": "markdown",
   "metadata": {},
   "source": [
    "# Modele pamięci"
   ]
  },
  {
   "cell_type": "code",
   "execution_count": 1,
   "metadata": {
    "tags": [
     "remove-cell"
    ]
   },
   "outputs": [],
   "source": [
    "import numpy as np                         # numeric\n",
    "import matplotlib.pyplot as plt            # plotting\n",
    "import matplotlib as mpl                   # plotting\n",
    "from IPython.display import display, Image # display imported graphics"
   ]
  },
  {
   "cell_type": "code",
   "execution_count": 2,
   "metadata": {
    "tags": [
     "remove-cell"
    ]
   },
   "outputs": [
    {
     "name": "stdout",
     "output_type": "stream",
     "text": [
      "Invoking __init__.py for neural\n"
     ]
    }
   ],
   "source": [
    "import os.path \n",
    "\n",
    "isdir = os.path.isdir('lib_nn') # check whether 'lib_nn' exists\n",
    "\n",
    "if not isdir:\n",
    "   !git clone https://github.com/bronwojtek/lib_nn.git # cloning the library from github\n",
    "\n",
    "import sys                     \n",
    "sys.path.append('./lib_nn') \n",
    "\n",
    "from neural import *            # importing my library package"
   ]
  },
  {
   "cell_type": "markdown",
   "metadata": {},
   "source": [
    "(het-lab)=\n",
    "## Pamieć skojarzeniowa (heteroasocjacyjna)"
   ]
  },
  {
   "cell_type": "markdown",
   "metadata": {},
   "source": [
    "### Skojarzenia par"
   ]
  },
  {
   "cell_type": "markdown",
   "metadata": {},
   "source": [
    "Przechodzimy teraz do dalszych ilustracji elementarnych możliwości ANN, opisujących dwa bardzo proste modele pamięci oparte na algebrze liniowej, uzupełnione o (nieliniowe) filtrowanie. Mówiąc o pamięci, na miejscu jest słowo przestrogi. Mamy tu do czynienia z dość uproszczonymi narzędziami, które są dalekie od złożonego i dotychczas niezrozumiałego mechanizmu pamięci działającego w naszym mózgu. Obecne rozumienie jest takie, że te mechanizmy obejmują sprzężenie zwrotne w sieciach, co wykracza poza rozważane tutaj sieci typu feed-forward."
   ]
  },
  {
   "cell_type": "markdown",
   "metadata": {},
   "source": [
    "Pierwszy rozważany model dotyczy tzw. pamięci **heterasocjacyjnej**, w której niektóre obiekty (tutaj graficzne symbole bitmapowe) są kojarzone w pary. Dla konkretnego przykładu bierzemy zbiór pięciu symboli graficznych {A, a, I, i, Y} i definiujemy dwa skojarznia par: A $\\leftrightarrow$ a oraz I $\\leftrightarrow$ i, czyli pomiędzy różnymi (hetero) symbolami. Symbol Y pozostaje nieskojarzony."
   ]
  },
  {
   "cell_type": "markdown",
   "metadata": {},
   "source": [
    "Symbole są zdefiniowane jako 2-wymiarowe ($12 \\times 12$) tablice pikseli, np."
   ]
  },
  {
   "cell_type": "code",
   "execution_count": 3,
   "metadata": {},
   "outputs": [],
   "source": [
    "    A = np.array([\n",
    "       [0, 0, 0, 0, 0, 0, 0, 0, 0, 0, 0, 0],\n",
    "       [0, 0, 0, 0, 0, 1, 0, 0, 0, 0, 0, 0],\n",
    "       [0, 0, 0, 0, 0, 1, 0, 0, 0, 0, 0, 0],\n",
    "       [0, 0, 0, 0, 1, 1, 1, 0, 0, 0, 0, 0],\n",
    "       [0, 0, 0, 0, 1, 0, 1, 0, 0, 0, 0, 0],\n",
    "       [0, 0, 0, 1, 0, 0, 0, 1, 0, 0, 0, 0],\n",
    "       [0, 0, 0, 1, 0, 0, 0, 1, 0, 0, 0, 0],\n",
    "       [0, 0, 1, 1, 1, 1, 1, 1, 1, 0, 0, 0],     \n",
    "       [0, 0, 1, 0, 0, 0, 0, 0, 1, 0, 0, 0],\n",
    "       [0, 1, 0, 0, 0, 0, 0, 0, 0, 1, 0, 0],  \n",
    "       [0, 1, 0, 0, 0, 0, 0, 0, 0, 1, 0, 0],\n",
    "       [0, 0, 0, 0, 0, 0, 0, 0, 0, 0, 0, 0]]) "
   ]
  },
  {
   "cell_type": "markdown",
   "metadata": {},
   "source": [
    "Pozostałe symbole są zdefiniowane podobnie."
   ]
  },
  {
   "cell_type": "code",
   "execution_count": 4,
   "metadata": {
    "tags": [
     "remove-cell"
    ]
   },
   "outputs": [],
   "source": [
    "    \n",
    "a = np.array([[0, 0, 0, 0, 0, 0, 0, 0, 0, 0, 0, 0],\n",
    "       [0, 0, 0, 0, 0, 0, 0, 0, 0, 0, 0, 0],\n",
    "       [0, 0, 0, 0, 0, 0, 0, 0, 0, 0, 0, 0],\n",
    "       [0, 0, 0, 1, 1, 1, 1, 0, 0, 0, 0, 0],\n",
    "       [0, 0, 1, 0, 0, 0, 1, 0, 0, 0, 0, 0],\n",
    "       [0, 0, 1, 0, 0, 0, 1, 0, 0, 0, 0, 0],\n",
    "       [0, 0, 1, 0, 0, 0, 1, 0, 0, 0, 0, 0],\n",
    "       [0, 0, 0, 1, 1, 1, 1, 1, 0, 0, 0, 0],     \n",
    "       [0, 0, 0, 0, 0, 0, 0, 0, 0, 0, 0, 0],\n",
    "       [0, 0, 0, 0, 0, 0, 0, 0, 0, 0, 0, 0],  \n",
    "       [0, 0, 0, 0, 0, 0, 0, 0, 0, 0, 0, 0],\n",
    "       [0, 0, 0, 0, 0, 0, 0, 0, 0, 0, 0, 0]])\n",
    "     \n",
    "ii =  np.array([[0, 0, 0, 0, 0, 0, 0, 0, 0, 0, 0, 0],\n",
    "      [0, 0, 0, 0, 0, 0, 0, 0, 0, 0, 0, 0],\n",
    "      [0, 0, 0, 0, 0, 0, 0, 0, 0, 0, 0, 0],\n",
    "      [0, 0, 0, 0, 0, 0, 1, 0, 0, 0, 0, 0],\n",
    "      [0, 0, 0, 0, 0, 0, 0, 0, 0, 0, 0, 0],\n",
    "      [0, 0, 0, 0, 0, 1, 1, 0, 0, 0, 0, 0],\n",
    "      [0, 0, 0, 0, 0, 0, 1, 0, 0, 0, 0, 0],\n",
    "      [0, 0, 0, 0, 0, 0, 1, 0, 0, 0, 0, 0],     \n",
    "      [0, 0, 0, 0, 0, 0, 1, 0, 0, 0, 0, 0],\n",
    "      [0, 0, 0, 0, 0, 0, 0, 1, 1, 0, 0, 0],  \n",
    "      [0, 0, 0, 0, 0, 0, 0, 0, 0, 0, 0, 0],\n",
    "      [0, 0, 0, 0, 0, 0, 0, 0, 0, 0, 0, 0]])\n",
    "     \n",
    "I = np.array( [[0, 0, 0, 0, 0, 0, 0, 0, 0, 0, 0, 0],\n",
    "      [0, 0, 0, 0, 1, 1, 1, 0, 0, 0, 0, 0],\n",
    "      [0, 0, 0, 0, 0, 1, 0, 0, 0, 0, 0, 0],\n",
    "      [0, 0, 0, 0, 0, 1, 0, 0, 0, 0, 0, 0],\n",
    "      [0, 0, 0, 0, 0, 1, 0, 0, 0, 0, 0, 0],\n",
    "      [0, 0, 0, 0, 0, 1, 0, 0, 0, 0, 0, 0],\n",
    "      [0, 0, 0, 0, 0, 1, 0, 0, 0, 0, 0, 0],\n",
    "      [0, 0, 0, 0, 0, 1, 0, 0, 0, 0, 0, 0],     \n",
    "      [0, 0, 0, 0, 0, 1, 0, 0, 0, 0, 0, 0],\n",
    "      [0, 0, 0, 0, 0, 1, 0, 0, 0, 0, 0, 0],  \n",
    "      [0, 0, 0, 0, 1, 1, 1, 0, 0, 0, 0, 0],\n",
    "      [0, 0, 0, 0, 0, 0, 0, 0, 0, 0, 0, 0]])\n",
    "     \n",
    "Y =  np.array([[0, 1, 0, 0, 0, 0, 0, 0, 0, 0, 0, 0],\n",
    "      [0, 0, 1, 0, 0, 0, 0, 0, 0, 0, 0, 0],\n",
    "      [0, 0, 0, 1, 0, 0, 0, 0, 0, 0, 1, 0],\n",
    "      [0, 0, 0, 0, 0, 0, 0, 0, 0, 1, 0, 0],\n",
    "      [0, 0, 0, 0, 0, 0, 0, 0, 1, 0, 0, 0],\n",
    "      [0, 0, 0, 0, 0, 0, 0, 1, 0, 0, 0, 0],\n",
    "      [0, 0, 0, 0, 0, 0, 1, 0, 0, 0, 0, 0],\n",
    "      [0, 0, 0, 0, 0, 1, 0, 0, 0, 0, 0, 0],     \n",
    "      [0, 0, 0, 0, 0, 1, 0, 0, 0, 0, 0, 0],\n",
    "      [0, 0, 0, 0, 0, 1, 0, 0, 0, 0, 0, 0],  \n",
    "      [0, 0, 0, 0, 1, 1, 1, 1, 1, 1, 0, 0],\n",
    "      [0, 0, 0, 0, 0, 0, 0, 0, 0, 0, 0, 0]])   "
   ]
  },
  {
   "cell_type": "markdown",
   "metadata": {},
   "source": [
    "Użyjemy standardowego pakietu do rysowania, zaimportowanego wcześniej. Cały zestaw naszych symboli wygląda jak poniżej, z kolorem żółtym=1 i fioletowym=0:"
   ]
  },
  {
   "cell_type": "code",
   "execution_count": 5,
   "metadata": {},
   "outputs": [],
   "source": [
    "sym=[A,a,ii,I,Y]   # array of symbols, numbered from 0 to 4"
   ]
  },
  {
   "cell_type": "code",
   "execution_count": 6,
   "metadata": {
    "scrolled": true
   },
   "outputs": [
    {
     "data": {
      "image/png": "[encoded data removed]",
      "text/plain": [
       "<Figure size 1600x600 with 5 Axes>"
      ]
     },
     "metadata": {},
     "output_type": "display_data"
    }
   ],
   "source": [
    "plt.figure(figsize=(16, 6)) # figure with horizontal and vertical size\n",
    "\n",
    "for i in range(1,6):     # loop over 5 figure panels, i is from 1 to 5\n",
    "    plt.subplot(1, 5, i) # panels, numbered from 1 to 5\n",
    "    plt.axis('off')      # no axes\n",
    "    plt.imshow(sym[i-1]) # plot symbol, numbered from 0 to 4\n",
    "    \n",
    "plt.show()    "
   ]
  },
  {
   "cell_type": "markdown",
   "metadata": {},
   "source": [
    "```{warning}\n",
    "W Pythonie zakres range $(i,j)$ zawiera $i$, ale nie obejmuje $j$, tj. równa się tablicy $[i, i+1, \\dots, j-1]$. Ponadto range$(i)$ obejmuje $0, 1, \\dots, i-1$. Różni się to od konwencji przyjętej w niektórych innych językach programowania.\n",
    "```"
   ]
  },
  {
   "cell_type": "markdown",
   "metadata": {},
   "source": [
    "Wygodniej jest pracować nie z powyższymi tablicami dwuwymiarowymi, ale z jednowymiarowymi wektorami uzyskanymi za pomocą tzw. procedury **spłaszczania**, gdzie macierz jest ,,pocięta\" wzdłuż swoich wierszy, złożonych w wektor. Na przykład"
   ]
  },
  {
   "cell_type": "code",
   "execution_count": 7,
   "metadata": {
    "scrolled": true
   },
   "outputs": [
    {
     "name": "stdout",
     "output_type": "stream",
     "text": [
      "[[1 2 3]\n",
      " [0 4 0]\n",
      " [3 2 7]]\n",
      "[1 2 3 0 4 0 3 2 7]\n"
     ]
    }
   ],
   "source": [
    "t=np.array([[1,2,3],[0,4,0],[3,2,7]]) # a matrix\n",
    "print(t)                            \n",
    "print(t.flatten())                    # matrix flattened into a vector   "
   ]
  },
  {
   "cell_type": "markdown",
   "metadata": {},
   "source": [
    "A zatem przeprowadzamy spłaszczenie na naszym zestawie symboli"
   ]
  },
  {
   "cell_type": "code",
   "execution_count": 8,
   "metadata": {},
   "outputs": [],
   "source": [
    "fA=A.flatten()\n",
    "fa=a.flatten()\n",
    "fi=ii.flatten()\n",
    "fI=I.flatten()\n",
    "fY=Y.flatten()"
   ]
  },
  {
   "cell_type": "markdown",
   "metadata": {},
   "source": [
    "aby otrzymać, np."
   ]
  },
  {
   "cell_type": "code",
   "execution_count": 9,
   "metadata": {
    "scrolled": true,
    "tags": [
     "remove-input"
    ]
   },
   "outputs": [
    {
     "data": {
      "image/png": "[encoded data removed]",
      "text/plain": [
       "<Figure size 1600x400 with 1 Axes>"
      ]
     },
     "metadata": {},
     "output_type": "display_data"
    }
   ],
   "source": [
    "fig = plt.figure(figsize=(16, 4))\n",
    "plt.axis(\"off\")\n",
    "plt.title(\"A after flattening\",fontsize=16)\n",
    "plt.imshow([fA])\n",
    "plt.show()"
   ]
  },
  {
   "cell_type": "code",
   "execution_count": 10,
   "metadata": {
    "tags": [
     "remove-input"
    ]
   },
   "outputs": [
    {
     "data": {
      "image/png": "[encoded data removed]",
      "text/plain": [
       "<Figure size 1600x400 with 1 Axes>"
      ]
     },
     "metadata": {},
     "output_type": "display_data"
    }
   ],
   "source": [
    "fig = plt.figure(figsize=(16, 4))\n",
    "plt.axis(\"off\")\n",
    "plt.title(\"i after flattening\",fontsize=16)\n",
    "plt.imshow([fi])\n",
    "plt.show()"
   ]
  },
  {
   "cell_type": "markdown",
   "metadata": {},
   "source": [
    "Zaletą pracy z wektorami jest to, że możemy użyć wbudowanego iloczynu skalarnego. Zauważmy, że tutaj iloczyn skalarny wektorów odpowiadających dwóm symbolom jest po prostu równy liczbie wspólnych żółtych pikseli. Na przykład dla spłaszczonych symboli A oraz i, narysowanych powyżej, mamy tylko dwa wspólne żółte piksele:"
   ]
  },
  {
   "cell_type": "code",
   "execution_count": 11,
   "metadata": {},
   "outputs": [
    {
     "data": {
      "text/plain": [
       "2"
      ]
     },
     "execution_count": 11,
     "metadata": {},
     "output_type": "execute_result"
    }
   ],
   "source": [
    "np.dot(fA,fi)"
   ]
  },
  {
   "cell_type": "markdown",
   "metadata": {},
   "source": [
    "Jasne jest, że można użyć iloczynu skalarnego jako miary podobieństwa między symbolami. Aby poniżej pzedstawiony model pamięci skojarzeniowej działał, symbole nie powinny być zbyt podobne, ponieważ mogą być wtedy „mylone”."
   ]
  },
  {
   "cell_type": "markdown",
   "metadata": {},
   "source": [
    "### Macierz pamięci"
   ]
  },
  {
   "cell_type": "markdown",
   "metadata": {},
   "source": [
    "Następna koncepcja algebraiczna, której potrzebujemy, to **iloczyn zewnętrzny**. Dla dwóch wektorów $v$ i $w$ jest on zdefiniowany jako $v w^T = v \\otimes w$ (w przeciwieństwie do iloczynu skalarnego, gdzie $w^T v = w \\cdot v$). Tutaj $T$ oznacza transpozycję. Wynikiem jest macierz z liczbą wierszy równą długości $v$ i liczbą kolumn równą długości $w$.\n",
    "\n",
    "Na przykład dla\n",
    "\n",
    "$$ v = \\left ( \\begin{array}{c} v_1 \\\\ v_2 \\\\v_3 \\end{array}  \\right ), \\;\\;\\;\\; w = \\left ( \\begin{array}{c} w_1 \\\\ w_2 \\end{array}  \\right ), $$\n",
    "\n",
    "mamy\n",
    "\n",
    "$$ \n",
    "v \\otimes w = v w^T=\n",
    "\\left ( \\begin{array}{c} v_1 \\\\ v_2 \\\\v_3 \\end{array}  \\right ) (w_1,w_2)\n",
    "= \\left ( \\begin{array}{cc} v_1 w_1 & v_1 w_2 \\\\ v_2 w_1 & v_2 w_2 \\\\v_3 v_1 & v_3 w_2 \\end{array}  \\right ).\n",
    "$$\n",
    "\n",
    "(przypomnij sobie z algebry, że mnożymy „wiersze przez kolumny”). w **numpy**"
   ]
  },
  {
   "cell_type": "code",
   "execution_count": 12,
   "metadata": {},
   "outputs": [
    {
     "name": "stdout",
     "output_type": "stream",
     "text": [
      "[[ 2  7]\n",
      " [ 4 14]\n",
      " [ 6 21]]\n"
     ]
    }
   ],
   "source": [
    "print(np.outer([1,2,3],[2,7])) # outer product of two vectors"
   ]
  },
  {
   "cell_type": "markdown",
   "metadata": {},
   "source": [
    "Następnie konstruujemy **macierz pamięci** potrzebną do modelowania pamięci heteroasocjacyjnej. Załóżmy najpierw, dla uproszczenia notacji, że mamy tylko dwa skojarzenia: $a \\to A$ i $b \\to B$. Niech\n",
    "\n",
    "$$M = A a^T/a\\cdot a + B b^T/b\\cdot b.$$ \n",
    "\n",
    "Wówczas \n",
    "\n",
    "$$M a=  A + B \\, a\\cdot b /b \\cdot a, $$ \n",
    "\n",
    "i jeśli $a$ and $b$ byłyby **ortogonalne**, tj. $a \\cdot b =0$, to\n",
    "\n",
    "$ M a =  A$, \n",
    "\n",
    "dając dokładne skojarzenie. Podobnie otrzymalibyśmy $Mb = B$. Ponieważ jednak w ogólnym przypadku wektory nie są dokładnie ortogonalne, generowany jest pewien błąd $B \\, b \\cdot a/a \\cdot a$ (dla asocjacji $a$). Zwykle jest on mały, jeśli liczba pikseli w naszych symbolach jest duża, a symbole są, ogólnie rzecz biorąc, niezbyt do siebie podobne (nie mają zbyt wielu wspólnych pikseli). Jak wkrótce zobaczymy, pojawiający się błąd można wydajnie „odfiltrować”  odpowiednią funkcją aktywacji neuronów.\n",
    "\n",
    "Wracając do naszego konkretnego przypadku, potrzebujemy zatem czterech członów w $M$, ponieważ\n",
    "$a \\to A$, $A\\to a$, $I \\to i$ oraz $i \\to I$:"
   ]
  },
  {
   "cell_type": "code",
   "execution_count": 13,
   "metadata": {},
   "outputs": [],
   "source": [
    "M=(np.outer(fA,fa)/np.dot(fa,fa)+np.outer(fa,fA)/np.dot(fA,fA)\n",
    "   +np.outer(fi,fI)/np.dot(fI,fI)+np.outer(fI,fi)/np.dot(fi,fi)); # associated pairs"
   ]
  },
  {
   "cell_type": "markdown",
   "metadata": {},
   "source": [
    "Teraz, jako test jak to działa, dla każdego spłaszczonego symbolu $s$ obliczamy $Ms$. Wynikiem jest wektor, który chcemy przywrócić do postaci tablicy pikseli $12\\times 12$. Operacją odwrotną do spłaszczania w Pythonie jest **reshape**. Na przykład"
   ]
  },
  {
   "cell_type": "code",
   "execution_count": 14,
   "metadata": {
    "scrolled": true
   },
   "outputs": [
    {
     "name": "stdout",
     "output_type": "stream",
     "text": [
      "[[1 2]\n",
      " [3 5]]\n"
     ]
    }
   ],
   "source": [
    "tt=np.array([1,2,3,5]) # test vector\n",
    "print(tt.reshape(2,2)) # cutting into 2 rows of length 2"
   ]
  },
  {
   "cell_type": "markdown",
   "metadata": {},
   "source": [
    "Dla naszych wektorów mamy"
   ]
  },
  {
   "cell_type": "code",
   "execution_count": 15,
   "metadata": {},
   "outputs": [],
   "source": [
    "Ap=np.dot(M,fA).reshape(12,12)\n",
    "ap=np.dot(M,fa).reshape(12,12)\n",
    "Ip=np.dot(M,fI).reshape(12,12)\n",
    "ip=np.dot(M,fi).reshape(12,12)\n",
    "Yp=np.dot(M,fY).reshape(12,12) # we also try the unassociated symbol Y\n",
    "\n",
    "symp=[Ap,ap,Ip,ip,Yp]          # array of associated symbols"
   ]
  },
  {
   "cell_type": "markdown",
   "metadata": {},
   "source": [
    "W przypadku skojarzenia z A (które powinno wynosić a) procedura daje nastepujący wynik (stosujemy tu dla ładniejszego wydruku zaokrąglanie do 2 cyfr dziesiętnych poprzez **np.round**)"
   ]
  },
  {
   "cell_type": "code",
   "execution_count": 16,
   "metadata": {},
   "outputs": [
    {
     "name": "stdout",
     "output_type": "stream",
     "text": [
      "[[0.   0.   0.   0.   0.   0.   0.   0.   0.   0.   0.   0.  ]\n",
      " [0.   0.   0.   0.   0.25 0.85 0.25 0.   0.   0.   0.   0.  ]\n",
      " [0.   0.   0.   0.   0.   0.85 0.   0.   0.   0.   0.   0.  ]\n",
      " [0.   0.   0.   1.   1.6  1.85 1.89 0.   0.   0.   0.   0.  ]\n",
      " [0.   0.   1.   0.   0.6  0.25 1.6  0.   0.   0.   0.   0.  ]\n",
      " [0.   0.   1.   0.6  0.   0.54 1.29 0.6  0.   0.   0.   0.  ]\n",
      " [0.   0.   1.   0.6  0.   0.25 1.29 0.6  0.   0.   0.   0.  ]\n",
      " [0.   0.   0.6  1.6  1.6  1.85 1.89 1.6  0.6  0.   0.   0.  ]\n",
      " [0.   0.   0.6  0.   0.   0.25 0.29 0.   0.6  0.   0.   0.  ]\n",
      " [0.   0.6  0.   0.   0.   0.25 0.   0.29 0.29 0.6  0.   0.  ]\n",
      " [0.   0.6  0.   0.   0.25 0.25 0.25 0.   0.   0.6  0.   0.  ]\n",
      " [0.   0.   0.   0.   0.   0.   0.   0.   0.   0.   0.   0.  ]]\n"
     ]
    }
   ],
   "source": [
    "print(np.round(Ap,2)) # pixel map for the association of the symbol A"
   ]
  },
  {
   "cell_type": "markdown",
   "metadata": {},
   "source": [
    "Zauważamy, że intensywność pikseli niekoniecznie jest teraz równa 0 lub 1, tak jak w oryginalnych symbolach. Przedstawienie graficzne wygląda następująco:"
   ]
  },
  {
   "cell_type": "code",
   "execution_count": 17,
   "metadata": {
    "tags": [
     "remove-input"
    ]
   },
   "outputs": [
    {
     "data": {
      "image/png": "[encoded data removed]",
      "text/plain": [
       "<Figure size 1600x600 with 5 Axes>"
      ]
     },
     "metadata": {},
     "output_type": "display_data"
    }
   ],
   "source": [
    "plt.figure(figsize=(16, 6)) # figure with horizontal and vertical size\n",
    "\n",
    "for i in range(1,6):      # loop over 5 figure panels, i is from 1 to 5\n",
    "    plt.subplot(1, 5, i)  # panels, numbered from 1 to 5\n",
    "    plt.axis('off')       # no axes\n",
    "    plt.imshow(symp[i-1]) # plot symbol, numbered from 0 to 4\n",
    "    \n",
    "plt.show()"
   ]
  },
  {
   "cell_type": "markdown",
   "metadata": {},
   "source": [
    "Powinniśmy być w stanie zobaczyć na powyższym obrazku sekwencję a, A, i, I oraz nic szczególnego w powiązaniu z Y. Prawie tak jest, ale sytuacja nie jest idealna ze względu na omówiony powyżej błąd wynikający z nieortogonalności."
   ]
  },
  {
   "cell_type": "markdown",
   "metadata": {},
   "source": [
    "### Nakładanie filtra"
   ]
  },
  {
   "cell_type": "markdown",
   "metadata": {},
   "source": [
    "Wynik znacznie się poprawi, gdy do powyższych map pikseli zostanie zastosowany filtr. Patrząc na powyższy rysunek zauważamy, że powinniśmy pozbyć się „słabych cieni”, a pozostawić tylko piksele o wystarczającej sile, które następnie powinny otrzymac warość 1. Innymi słowy, piksele poniżej progu filtra $b$ powinny zostać zresetowane do 0, a te powyżej lub równe $b$ powinny zostać zresetowane do 1. Można to zgrabnie osiągnąć za pomocą naszego **neuronu** z rozdz. {ref}`mcp_P-lab`. Funkcja ta została umieszczona w bibliotece **neural** (patrz [Dodatek](app-lab))."
   ]
  },
  {
   "cell_type": "markdown",
   "metadata": {},
   "source": [
    "A zatem definiujemy filtry jako neurony MCP o wagach $w_0=-b$ i $w_1=1$:"
   ]
  },
  {
   "cell_type": "code",
   "execution_count": 31,
   "metadata": {},
   "outputs": [],
   "source": [
    "def filter(a,b): # a - symbol (2-dim pixel array), b - bias\n",
    "    n=len(a)     # number of rows (and columns)\n",
    "    return np.array([[func.neuron([a[i,j]],[-b,1]) for j in range(n)] for i in range(n)])\n",
    "       # 2-dim array with the filter applied"
   ]
  },
  {
   "cell_type": "code",
   "execution_count": 32,
   "metadata": {
    "tags": [
     "remove-cell"
    ]
   },
   "outputs": [],
   "source": [
    "def filter1(a,b): # a - symbol (1-dim pixel array), b - bias\n",
    "    n=len(a)      # length of a\n",
    "    return np.array([func.neuron([a[i]],[-b,1]) for i in range(n)])\n",
    "       # 1-dim array with the filter applied"
   ]
  },
  {
   "cell_type": "markdown",
   "metadata": {},
   "source": [
    "Działając na symbol Ap z odpowiednio dobranym $b=0.9$ (przyjęty poziom progu jest tutaj bardzo istotny), uzyskujemy"
   ]
  },
  {
   "cell_type": "code",
   "execution_count": 33,
   "metadata": {},
   "outputs": [
    {
     "name": "stdout",
     "output_type": "stream",
     "text": [
      "[[0 0 0 0 0 0 0 0 0 0 0 0]\n",
      " [0 0 0 0 0 1 0 0 0 0 0 0]\n",
      " [0 0 0 0 0 1 0 0 0 0 0 0]\n",
      " [0 0 0 0 1 1 1 0 0 0 0 0]\n",
      " [0 0 0 0 1 0 1 0 0 0 0 0]\n",
      " [0 0 0 1 0 0 0 1 0 0 0 0]\n",
      " [0 0 0 1 0 0 0 1 0 0 0 0]\n",
      " [0 0 1 1 1 1 1 1 1 0 0 0]\n",
      " [0 0 1 0 0 0 0 0 1 0 0 0]\n",
      " [0 1 0 0 0 0 0 0 0 1 0 0]\n",
      " [0 1 0 0 0 0 0 0 0 1 0 0]\n",
      " [0 0 0 0 0 0 0 0 0 0 0 0]]\n"
     ]
    }
   ],
   "source": [
    "print(filter(Ap,.9))"
   ]
  },
  {
   "cell_type": "markdown",
   "metadata": {},
   "source": [
    "gdzie możemy zauważyć „czysty” symbol a. Sprawdzamy, czy faktycznie filtrowanie działa tak doskonale we wszystkich naszych skojarzeniach:"
   ]
  },
  {
   "cell_type": "code",
   "execution_count": 34,
   "metadata": {
    "scrolled": true,
    "tags": [
     "remove-input"
    ]
   },
   "outputs": [
    {
     "data": {
      "image/png": "[encoded data removed]",
      "text/plain": [
       "<Figure size 1600x600 with 5 Axes>"
      ]
     },
     "metadata": {},
     "output_type": "display_data"
    }
   ],
   "source": [
    "plt.figure(figsize=(16, 6)) # figure with horizontal and vertical size\n",
    "\n",
    "for i in range(1,6):     # loop over 5 figure panels, i is from 1 to 5\n",
    "    plt.subplot(1, 5, i) # panels, numbered from 1 to 5\n",
    "    plt.axis('off')      # no axes\n",
    "    plt.imshow(filter(symp[i-1],0.9)) # plot symbol, numbered from 0 to 4\n",
    "    \n",
    "plt.show()"
   ]
  },
  {
   "cell_type": "markdown",
   "metadata": {},
   "source": [
    "Można łatwo podać reprezentację właśnie przedstawionego modelu pamięci heteroasocjacyjnej jako **jednowarstwową** sieć neuronów MCP. Na poniższym wykresie ukazujemy wszystkie operacje, idąc od lewej strony do prawej. Symbol wejściowy jest spłaszczony. Warstwy wejściowa i wyjściowa są w pełni połączone krawędziami (których nie pokazano) łączącymi komórki wejściowe z neuronami w warstwie wyjściowej. Wagi krawędzi są równe elementom macierzy $M_{ij}$, oznaczonej symbolem M. Funkcja aktywacji jest taka sama dla wszystkich neuronów i ma postać funkcji schodkowej.\n",
    "\n",
    "Na dole rysunku wskazujemy elementy wektora wejściowego $x_i$, sygnału docierającego do neuronu $j$, tj. $s_j=\\sum_i x_i M_{ij}$ oraz wynik końcowy $y_j=f(s_j)$."
   ]
  },
  {
   "cell_type": "code",
   "execution_count": 35,
   "metadata": {
    "scrolled": false,
    "tags": [
     "remove-input"
    ]
   },
   "outputs": [
    {
     "data": {
      "image/png": "[encoded data removed]",
      "text/plain": [
       "<Figure size 1600x1200 with 9 Axes>"
      ]
     },
     "metadata": {},
     "output_type": "display_data"
    }
   ],
   "source": [
    "plt.figure(figsize=(16, 12)) \n",
    "\n",
    "plt.subplot(1, 9, 1)\n",
    "plt.axis('off') \n",
    "plt.imshow(A);\n",
    "\n",
    "plt.subplot(1, 9, 2) \n",
    "plt.axis('off') \n",
    "plt.text(0.2,0.4,'flatten',fontsize=24)\n",
    "plt.text(-.4,0.7,'input',fontsize=20);\n",
    "\n",
    "plt.subplot(1, 9, 3) \n",
    "plt.axis('off') \n",
    "plt.imshow(np.transpose([fA]))\n",
    "\n",
    "plt.subplot(1, 9, 4) \n",
    "plt.axis('off') \n",
    "plt.text(0.25,0.4,'M',fontsize=24)\n",
    "plt.text(-0.4,0.7,'fully connected',fontsize=20)\n",
    "plt.text(-0.4,0.03,'$x_i$',fontsize=24);\n",
    "\n",
    "fAp=np.dot(M,fA)\n",
    "\n",
    "plt.subplot(1, 9, 5) \n",
    "plt.axis('off') \n",
    "plt.imshow(np.transpose([fAp]));\n",
    "\n",
    "plt.subplot(1, 9, 6) \n",
    "plt.axis('off') \n",
    "plt.text(0.15,0.4,'filter',fontsize=24)\n",
    "plt.text(-0.4,0.7,'step activation',fontsize=20)\n",
    "plt.text(-0.4,0.03,'$s_j$',fontsize=24);\n",
    "\n",
    "plt.subplot(1, 9, 7) \n",
    "plt.axis('off') \n",
    "plt.imshow(np.transpose([filter1(fAp,.9)]));\n",
    "\n",
    "plt.subplot(1, 9, 8)\n",
    "plt.axis('off') \n",
    "plt.text(-.20,0.4,'reshape',fontsize=24)\n",
    "plt.text(.4,0.7,'output',fontsize=20)\n",
    "plt.text(-0.4,0.03,'$y_j$',fontsize=24);\n",
    "\n",
    "plt.subplot(1, 9, 9)\n",
    "plt.axis('off') \n",
    "plt.imshow(filter(Ap,.9));\n",
    "\n",
    "plt.show()"
   ]
  },
  {
   "cell_type": "markdown",
   "metadata": {},
   "source": [
    "\n",
    "```{admonition} Podsumowanie modelu pamieci heteroassociatywnej\n",
    ":class: note\n",
    "\n",
    "0. Zdefiniuj pary skojarzonych symboli i skonstruuj macierz pamięci $M$.\n",
    "\n",
    "1. Wejście to symbol w postaci 2-wymiarowej tablicy pikseli o wartościach 0 lub 1.\n",
    "\n",
    "2. Spłaszcz symbol do wektora, który tworzy warstwę danych wejściowych $x_i$.\n",
    "\n",
    "3. Macierz wag w pełni połączonej sieci ANN to $M$.\n",
    "\n",
    "4. Sygnał wchodzący do neuronu $j$ w warstwie wyjściowej to $s_j=\\sum_i x_i M_{ij}$.\n",
    "\n",
    "5. Funkcja aktywacji to funkcja schodkowa z odpowiednio dobranym progiem. Daje ona $y_j=f(s_j)$.\n",
    "\n",
    "6. Potnij wektor wyjściowy na macierz pikseli, która stanowi ostateczny wynik.\n",
    "Powinien to być symbol skojarzony z symbolem na wejściu.\n",
    "```"
   ]
  },
  {
   "cell_type": "markdown",
   "metadata": {},
   "source": [
    "## Pamieć autoasocjatywna"
   ]
  },
  {
   "cell_type": "markdown",
   "metadata": {},
   "source": [
    "### Samo-skojarzenia"
   ]
  },
  {
   "cell_type": "markdown",
   "metadata": {},
   "source": [
    "Model pamięci autoasocjacyjnej jest w bliskiej analogii do przypadku pamięci skojarzeniowej, ale teraz każdy symbol jest kojarzony **z samym sobą**. Dlaczego robimy coś takiego, stanie się jasne, gdy weźmiemy pod uwagę zniekształcone dane wejściowe. Definiujemy macierz asocjacji w następujący sposób:"
   ]
  },
  {
   "cell_type": "code",
   "execution_count": 36,
   "metadata": {},
   "outputs": [],
   "source": [
    "Ma=(np.outer(fA,fA)/np.dot(fA,fA)+np.outer(fa,fa)/np.dot(fa,fa)\n",
    "    +np.outer(fi,fi)/np.dot(fi,fi)+np.outer(fI,fI)/np.dot(fI,fI))"
   ]
  },
  {
   "cell_type": "code",
   "execution_count": 37,
   "metadata": {
    "tags": [
     "remove-cell"
    ]
   },
   "outputs": [],
   "source": [
    "Ap=np.dot(Ma,fA).reshape(12,12)\n",
    "ap=np.dot(Ma,fa).reshape(12,12)\n",
    "Ip=np.dot(Ma,fI).reshape(12,12)\n",
    "ip=np.dot(Ma,fi).reshape(12,12)\n",
    "Yp=np.dot(Ma,fY).reshape(12,12)\n",
    "\n",
    "symp=[Ap,ap,Ip,ip,Yp] # array of self-associated symbols"
   ]
  },
  {
   "cell_type": "markdown",
   "metadata": {},
   "source": [
    "Po przemnożeniu spłaszczonego symbolu przez macierz Ma i przefiltrowaniu (wszystkie kroki jak w przypadku skojarzeniowym) otrzymujemy poprawnie oryginalne symbole (poza Y, który nie był z niczym powiązany)."
   ]
  },
  {
   "cell_type": "code",
   "execution_count": 38,
   "metadata": {
    "tags": [
     "remove-input"
    ]
   },
   "outputs": [
    {
     "data": {
      "image/png": "[encoded data removed]",
      "text/plain": [
       "<Figure size 1600x600 with 5 Axes>"
      ]
     },
     "metadata": {},
     "output_type": "display_data"
    }
   ],
   "source": [
    "plt.figure(figsize=(16, 6)) # figure with horizontal and vertical size\n",
    "\n",
    "for i in range(1,6):     # loop over 5 figure panels, i is from 1 to 5\n",
    "    plt.subplot(1, 5, i) # panels, numbered from 1 to 5\n",
    "    plt.axis('off')      # no axes\n",
    "    plt.imshow(filter(symp[i-1],0.9)) # plot symbol, numbered from 0 to 4\n",
    "    \n",
    "plt.show()"
   ]
  },
  {
   "cell_type": "markdown",
   "metadata": {},
   "source": [
    "### Zniekształcone symbole"
   ]
  },
  {
   "cell_type": "markdown",
   "metadata": {},
   "source": [
    "Teraz wyobraź sobie, że oryginalny symbol zostaje częściowo zniszczony, a niektóre piksele są losowo zmieniane z 1 na 0 i odwrotnie."
   ]
  },
  {
   "cell_type": "code",
   "execution_count": 39,
   "metadata": {},
   "outputs": [],
   "source": [
    "ne=62   # number of alterations\n",
    "\n",
    "for s in sym:                     # loop over symbols\n",
    "    for _ in range(ne):           # loop over alteratons\n",
    "        i=np.random.randint(0,12) # random position in row\n",
    "        j=np.random.randint(0,12) # random position in column\n",
    "        s[i,j]=1-s[i,j]           # trick to switch 1 and 0"
   ]
  },
  {
   "cell_type": "markdown",
   "metadata": {},
   "source": [
    "Po tym zniszczeniu symbole wejściowe wyglądają tak:"
   ]
  },
  {
   "cell_type": "code",
   "execution_count": 40,
   "metadata": {
    "tags": [
     "remove-input"
    ]
   },
   "outputs": [
    {
     "data": {
      "image/png": "[encoded data removed]",
      "text/plain": [
       "<Figure size 1600x600 with 5 Axes>"
      ]
     },
     "metadata": {},
     "output_type": "display_data"
    }
   ],
   "source": [
    "plt.figure(figsize=(16, 6)) # figure with horizontal and vertical size\n",
    "\n",
    "for i in range(1,6):     # loop over 5 figure panels, i is from 1 to 5\n",
    "    plt.subplot(1, 5, i) # panels, numbered from 1 to 5\n",
    "    plt.axis('off')      # no axes\n",
    "    plt.imshow(sym[i-1]) # plot symbol, numbered from 0 to 4\n",
    "    \n",
    "plt.show()"
   ]
  },
  {
   "cell_type": "markdown",
   "metadata": {},
   "source": [
    "### Odtworzenie symboli"
   ]
  },
  {
   "cell_type": "markdown",
   "metadata": {},
   "source": [
    "Następnie stosujemy nasz model pamięci autoasocjacyjnej do wszystkich „zniszczonych” symboli:"
   ]
  },
  {
   "cell_type": "code",
   "execution_count": 41,
   "metadata": {},
   "outputs": [],
   "source": [
    "Ap=np.dot(Ma,fA).reshape(12,12)\n",
    "ap=np.dot(Ma,fa).reshape(12,12)\n",
    "Ip=np.dot(Ma,fI).reshape(12,12)\n",
    "ip=np.dot(Ma,fi).reshape(12,12)\n",
    "Yp=np.dot(Ma,fY).reshape(12,12)\n",
    "\n",
    "symp=[Ap,ap,Ip,ip,Yp] "
   ]
  },
  {
   "cell_type": "markdown",
   "metadata": {},
   "source": [
    "co daje"
   ]
  },
  {
   "cell_type": "code",
   "execution_count": 42,
   "metadata": {
    "scrolled": true,
    "tags": [
     "remove-input"
    ]
   },
   "outputs": [
    {
     "data": {
      "image/png": "[encoded data removed]",
      "text/plain": [
       "<Figure size 1600x600 with 5 Axes>"
      ]
     },
     "metadata": {},
     "output_type": "display_data"
    }
   ],
   "source": [
    "plt.figure(figsize=(16, 6)) # figure with horizontal and vertical size\n",
    "\n",
    "for i in range(1,6):      # loop over 5 figure panels, i is from 1 to 5\n",
    "    plt.subplot(1, 5, i)  # panels, numbered from 1 to 5\n",
    "    plt.axis('off')       # no axes\n",
    "    plt.imshow(symp[i-1]) # plot symbol, numbered from 0 to 4\n",
    "    \n",
    "plt.show()"
   ]
  },
  {
   "cell_type": "markdown",
   "metadata": {},
   "source": [
    "Po przefiltrowaniu z progiem $b=0.9$ odzyskujemy originale symbole:"
   ]
  },
  {
   "cell_type": "code",
   "execution_count": 43,
   "metadata": {
    "scrolled": true
   },
   "outputs": [
    {
     "data": {
      "image/png": "[encoded data removed]",
      "text/plain": [
       "<Figure size 1600x600 with 5 Axes>"
      ]
     },
     "metadata": {},
     "output_type": "display_data"
    }
   ],
   "source": [
    "plt.figure(figsize=(16, 6))\n",
    "\n",
    "for i in range(1,6):     \n",
    "    plt.subplot(1, 5, i)  \n",
    "    plt.axis('off')       \n",
    "    plt.imshow(filter(symp[i-1],0.9)) # plot filtered symbol\n",
    "    \n",
    "plt.show()"
   ]
  },
  {
   "cell_type": "markdown",
   "metadata": {},
   "source": [
    "Zastosowanie algorytmu może zatem odszyfrować „zniszczony” tekst lub, bardziej ogólnie, zapewnić mechanizm korekcji błędów."
   ]
  },
  {
   "cell_type": "markdown",
   "metadata": {},
   "source": [
    "```{admonition} Podsumowanie modelu pamieci autoasocjatywnej\n",
    ":class: note\n",
    "\n",
    "0. Skonstruuj macierz pamięci $Ma$.\n",
    "\n",
    "1. Wejście to symbol w postaci 2-wymiarowej tablicy pikseli o wartościach 0 lub 1, gdzie\n",
    "pewna liczba pikseli jest losowo przekłamana.\n",
    "\n",
    "2. Spłaszcz symbol do wektora, który tworzy warstwę danych wejściowych $x_i$.\n",
    "\n",
    "3. Macierz wag w pełni połączonej sieci ANN to $Ma$.\n",
    "\n",
    "4. Sygnał wchodzący do neuronu $j$ w warstwie wyjściowej to $s_j=\\sum_i x_i M_{ij}$.\n",
    "\n",
    "5. Funkcja aktywacji to funkcja schodkowa z odpowiednio dobranym progiem. Daje ona $y_j=f(s_j)$.\n",
    "\n",
    "6. Potnij wektor wyjściowy na macierz pikseli, która stanowi ostateczny wynik. Powinien zostać przywrócony oryginalny symbol.\n",
    "```"
   ]
  },
  {
   "cell_type": "markdown",
   "metadata": {},
   "source": [
    "```{important}\n",
    "Konkluzja: ANN z jedną warstwą neuronów MPC mogą służyć jako bardzo proste modele pamięci!\n",
    "```"
   ]
  },
  {
   "cell_type": "markdown",
   "metadata": {},
   "source": [
    "Zauważmy jednak, że skonstruowaliśmy macierze pamięciowe algebraicznie, niejako zewnętrznie. Dlatego sieć tak naprawdę nie nauczyła się skojarzeń z doświadczenia. Są na to sposoby, ale wymagają one bardziej zaawansowanych metod (patrz np. {cite}```freeman1991```), podobne do omówionych w kolejnych częściach tego wykładu."
   ]
  },
  {
   "cell_type": "markdown",
   "metadata": {},
   "source": [
    "```{note}\n",
    "Implementacja omawianych modeli pamięci w programie Mathematica znajduje się w\n",
    "{cite}`freeman1993` ([https://library.wolfram.com/infocenter/Books/3485](https://library.wolfram.com/infocenter/Books/3485)) oraz we wspomnianych już wykładach [Daniel Kersten](http://vision.psych.umn.edu/users/kersten/kersten-lab/courses/Psy5038WF2014/IntroNeuralSyllabus.html).\n",
    "```"
   ]
  },
  {
   "cell_type": "markdown",
   "metadata": {},
   "source": [
    "## Ćwiczenia"
   ]
  },
  {
   "cell_type": "markdown",
   "metadata": {},
   "source": [
    "```{admonition} $~$\n",
    ":class: warning\n",
    "\n",
    "Pobaw się kodem z wykładu i\n",
    "\n",
    "- dodawaj coraz więcej symboli;\n",
    "- zmieniaj poziom filtra;\n",
    "- zwiększ liczbę przekłamań.\n",
    "\n",
    "Omów swoje spostrzeżenia i przedyskutuj ograniczenia modeli.\n",
    "\n",
    "```\n"
   ]
  },
  {
   "cell_type": "code",
   "execution_count": null,
   "metadata": {},
   "outputs": [],
   "source": []
  }
 ],
 "metadata": {
  "kernelspec": {
   "display_name": "Python 3",
   "language": "python",
   "name": "python3"
  },
  "language_info": {
   "codemirror_mode": {
    "name": "ipython",
    "version": 3
   },
   "file_extension": ".py",
   "mimetype": "text/x-python",
   "name": "python",
   "nbconvert_exporter": "python",
   "pygments_lexer": "ipython3",
   "version": "3.8.11"
  }
 },
 "nbformat": 4,
 "nbformat_minor": 4
}
